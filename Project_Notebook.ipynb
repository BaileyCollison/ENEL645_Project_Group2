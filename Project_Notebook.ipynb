{
 "cells": [
  {
   "cell_type": "markdown",
   "metadata": {},
   "source": [
    "# Group 2 Optical Character Recognition Project Project - Group 2\n",
    "## Summary\n",
    "This project is to explore creating a character recognition system utilizing a convolutional neural network\n",
    "## Completed By:\n",
    "Aidan MacNichol – 30094369\n",
    "\n",
    "Bailey Collison – 30133909\n",
    "\n",
    "David Pozniak – 00324580\n",
    "\n",
    "Yael Gonzalez - 30247278"
   ]
  },
  {
   "cell_type": "code",
   "execution_count": 1,
   "metadata": {},
   "outputs": [
    {
     "name": "stdout",
     "output_type": "stream",
     "text": [
      "cuda:0\n"
     ]
    }
   ],
   "source": [
    "import torch\n",
    "import torchvision\n",
    "import torchvision.transforms as transforms\n",
    "import torch.nn as nn\n",
    "import torch.nn.functional as F\n",
    "import matplotlib.pyplot as plt\n",
    "import numpy as np\n",
    "import torch.optim as optim\n",
    "\n",
    "device = torch.device('cuda:0' if torch.cuda.is_available() else 'cpu')\n",
    "print(device)"
   ]
  },
  {
   "cell_type": "code",
   "execution_count": null,
   "metadata": {},
   "outputs": [],
   "source": [
    "# Function to compute dataset statistics (same as mnist example)\n",
    "def get_dataset_stats(data_loader):\n",
    "    mean = 0.\n",
    "    std = 0.\n",
    "    nb_samples = 0.\n",
    "    for data in data_loader:\n",
    "        images = data[0]\n",
    "        batch_samples = images.size(0)\n",
    "        images = images.view(batch_samples, images.size(1), -1)\n",
    "        mean += images.mean(2).sum(0)\n",
    "        std += images.std(2).sum(0)\n",
    "        nb_samples += batch_samples\n",
    "    mean /= nb_samples\n",
    "    std /= nb_samples\n",
    "    return mean, std\n",
    "\n",
    "# functions to show an image (also same as mnist example)\n",
    "def imshow(img,stats):\n",
    "    # when unnormalizing, I had to add extra channels for RGB\n",
    "    img = img * stats[1].view(-1, 1, 1) + stats[0].view(-1, 1, 1)\n",
    "    npimg = img.numpy()\n",
    "    plt.imshow(np.transpose(npimg, (1, 2, 0)))\n",
    "    plt.show()"
   ]
  },
  {
   "cell_type": "code",
   "execution_count": 10,
   "metadata": {},
   "outputs": [
    {
     "name": "stdout",
     "output_type": "stream",
     "text": [
      "Train stats: (tensor([0.5888, 0.5888, 0.5888]), tensor([0.2706, 0.2706, 0.2706]))\n",
      "Classes: ['0', '1', '2', '3', '4', '5', '6', '7', '8', '9', 'A', 'B', 'C', 'D', 'E', 'F', 'G', 'H', 'I', 'J', 'K', 'L', 'M', 'N', 'O', 'P', 'Q', 'R', 'S', 'T', 'U', 'V', 'W', 'X', 'Y', 'Z']\n"
     ]
    }
   ],
   "source": [
    "batch_size = 256\n",
    "\n",
    "initial_transform = transforms.Compose([\n",
    "    transforms.Resize((28, 28)),  # I was getting an error if I didn't resize\n",
    "    transforms.ToTensor()\n",
    "])\n",
    "\n",
    "train_folder = \"./data/training_data\"\n",
    "test_folder = \"./data/testing_data\"\n",
    "\n",
    "train_dataset_initial = torchvision.datasets.ImageFolder(root=train_folder, transform=initial_transform)\n",
    "\n",
    "train_set_size = int(0.8 * len(train_dataset_initial))\n",
    "val_set_size = len(train_dataset_initial) - train_set_size\n",
    "\n",
    "# Split the development set into train and validation\n",
    "train_subset, val_subset = torch.utils.data.random_split(train_dataset_initial, [train_set_size, val_set_size],\n",
    "                                                           generator=torch.Generator().manual_seed(42))\n",
    "\n",
    "# Get the data loader for the train set\n",
    "train_loader_initial = torch.utils.data.DataLoader(train_subset, batch_size=batch_size,\n",
    "                                                   shuffle=True, num_workers=2)\n",
    "\n",
    "# Comopute the statistics of the train set\n",
    "stats = get_dataset_stats(train_loader_initial)\n",
    "print(\"Train stats:\", stats)\n",
    "# Pre-processing transforms\n",
    "transform = transforms.Compose(\n",
    "    [transforms.Resize((28, 28)),\n",
    "    transforms.ToTensor(),\n",
    "     transforms.Normalize((stats[0]), (stats[1]))])\n",
    "\n",
    "# Reload the dataset with the new transform\n",
    "train_dataset = torchvision.datasets.ImageFolder(root=train_folder, transform=transform)\n",
    "train_set, val_set = torch.utils.data.random_split(train_dataset, [train_set_size, val_set_size], generator=torch.Generator().manual_seed(42))\n",
    "\n",
    "# Load test dataset with same transform\n",
    "test_dataset = torchvision.datasets.ImageFolder(root=test_folder, transform=transform)\n",
    "\n",
    "# data loaders for training, validation, and test sets\n",
    "trainloader = torch.utils.data.DataLoader(train_set, batch_size=batch_size, shuffle=True, num_workers=2)\n",
    "valloader = torch.utils.data.DataLoader(val_set, batch_size=batch_size, shuffle=False, num_workers=2)\n",
    "testloader = torch.utils.data.DataLoader(test_dataset, batch_size=batch_size, shuffle=False, num_workers=2)\n",
    "\n",
    "# get classes from folder names\n",
    "classes = train_dataset.classes\n",
    "print(\"Classes:\", classes)"
   ]
  },
  {
   "cell_type": "code",
   "execution_count": null,
   "metadata": {},
   "outputs": [
    {
     "data": {
      "image/png": "[encoded data removed]",
      "text/plain": [
       "<Figure size 640x480 with 1 Axes>"
      ]
     },
     "metadata": {},
     "output_type": "display_data"
    },
    {
     "name": "stdout",
     "output_type": "stream",
     "text": [
      "H     L     F     1     N     1     P     N    \n"
     ]
    }
   ],
   "source": [
    "# get some random training images and print them\n",
    "dataiter = iter(trainloader)\n",
    "images, labels = next(dataiter)\n",
    "imshow(torchvision.utils.make_grid(images[:8]), stats)\n",
    "print(' '.join(f'{classes[labels[j]]:5s}' for j in range(8)))"
   ]
  },
  {
   "cell_type": "code",
   "execution_count": null,
   "metadata": {},
   "outputs": [
    {
     "name": "stdout",
     "output_type": "stream",
     "text": [
      "Number of classes:  36\n"
     ]
    },
    {
     "data": {
      "text/plain": [
       "Net(\n",
       "  (conv1): Conv2d(3, 32, kernel_size=(3, 3), stride=(1, 1))\n",
       "  (conv2): Conv2d(32, 64, kernel_size=(3, 3), stride=(1, 1))\n",
       "  (fc1): Linear(in_features=9216, out_features=128, bias=True)\n",
       "  (fc2): Linear(in_features=128, out_features=36, bias=True)\n",
       ")"
      ]
     },
     "execution_count": 15,
     "metadata": {},
     "output_type": "execute_result"
    }
   ],
   "source": [
    "class Net(nn.Module):\n",
    "    def __init__(self, num_classes):\n",
    "        super(Net, self).__init__()\n",
    "        # 3 input channels because of RGB, 32 output channels, 3x3 kernel\n",
    "        self.conv1 = nn.Conv2d(3, 32, kernel_size=3)\n",
    "        self.conv2 = nn.Conv2d(32, 64, kernel_size=3)\n",
    "        self.fc1 = nn.Linear(64 * 12 * 12, 128)\n",
    "        self.fc2 = nn.Linear(128, num_classes)\n",
    "\n",
    "    def forward(self, x):\n",
    "        # Convolutional layer + ReLU + MaxPooling\n",
    "        x = F.relu(self.conv1(x))\n",
    "        x = F.relu(self.conv2(x))\n",
    "        # max pooling\n",
    "        x = F.max_pool2d(x, 2)\n",
    "        # Flatten the tensor into a 1D vector\n",
    "        x = x.view(-1, 64 * 12 * 12)\n",
    "        # Fully connected layers\n",
    "        x = F.relu(self.fc1(x))\n",
    "        x = self.fc2(x)\n",
    "        return x\n",
    "\n",
    "num_classes = len(train_dataset.classes)\n",
    "print(\"Number of classes: \", num_classes)\n",
    "\n",
    "net = Net(num_classes)\n",
    "net.to(device)"
   ]
  },
  {
   "cell_type": "code",
   "execution_count": 16,
   "metadata": {},
   "outputs": [],
   "source": [
    "criterion = nn.CrossEntropyLoss() # Loss function\n",
    "optimizer = optim.SGD(net.parameters(), lr=0.001, momentum=0.9) # Optimizer used for training"
   ]
  },
  {
   "cell_type": "code",
   "execution_count": null,
   "metadata": {},
   "outputs": [
    {
     "name": "stdout",
     "output_type": "stream",
     "text": [
      "1,  train loss: 3.511, val loss: 3.388\n",
      "Saving model\n",
      "2,  train loss: 2.023, val loss: 0.877\n",
      "Saving model\n",
      "3,  train loss: 0.627, val loss: 0.701\n",
      "Saving model\n",
      "4,  train loss: 0.495, val loss: 0.584\n",
      "Saving model\n",
      "5,  train loss: 0.430, val loss: 0.447\n",
      "Saving model\n",
      "6,  train loss: 0.386, val loss: 0.430\n",
      "Saving model\n",
      "7,  train loss: 0.347, val loss: 0.382\n",
      "Saving model\n",
      "8,  train loss: 0.326, val loss: 0.393\n",
      "Saving model\n",
      "9,  train loss: 0.314, val loss: 0.349\n",
      "Saving model\n",
      "10,  train loss: 0.295, val loss: 0.329\n",
      "Saving model\n",
      "11,  train loss: 0.278, val loss: 0.313\n",
      "Saving model\n",
      "12,  train loss: 0.252, val loss: 0.297\n",
      "Saving model\n",
      "13,  train loss: 0.241, val loss: 0.292\n",
      "Saving model\n",
      "14,  train loss: 0.231, val loss: 0.284\n",
      "Saving model\n",
      "15,  train loss: 0.233, val loss: 0.298\n",
      "Saving model\n",
      "16,  train loss: 0.222, val loss: 0.271\n",
      "Saving model\n",
      "17,  train loss: 0.201, val loss: 0.268\n",
      "Saving model\n",
      "18,  train loss: 0.196, val loss: 0.239\n",
      "Saving model\n",
      "19,  train loss: 0.182, val loss: 0.237\n",
      "Saving model\n",
      "20,  train loss: 0.172, val loss: 0.246\n",
      "Saving model\n",
      "Finished Training\n"
     ]
    }
   ],
   "source": [
    "nepochs = 20\n",
    "PATH = './cifar_net.pth'\n",
    "\n",
    "best_loss = 1e+20\n",
    "for epoch in range(nepochs):\n",
    "    # Training Loop\n",
    "    train_loss = 0.0\n",
    "    # set to training mode\n",
    "    net.train()\n",
    "    for i, data in enumerate(trainloader, 0):\n",
    "        inputs, labels = data[0].to(device), data[1].to(device)\n",
    "        optimizer.zero_grad()\n",
    "        outputs = net(inputs)\n",
    "        loss = criterion(outputs, labels)\n",
    "        loss.backward()\n",
    "        optimizer.step()\n",
    "        train_loss += loss.item()\n",
    "    print(f'{epoch + 1},  train loss: {train_loss / i:.3f},', end = ' ')\n",
    "    # set to evaluation mode\n",
    "    net.eval()\n",
    "    val_loss = 0\n",
    "    with torch.no_grad():\n",
    "        for i, data in enumerate(valloader, 0):\n",
    "            inputs, labels = data[0].to(device), data[1].to(device)\n",
    "            outputs = net(inputs)\n",
    "            loss = criterion(outputs, labels)\n",
    "            val_loss += loss.item()\n",
    "        print(f'val loss: {val_loss / i:.3f}')\n",
    "        \n",
    "        # Save best model\n",
    "        if val_loss < best_loss:\n",
    "            print(\"Saving model\")\n",
    "            torch.save(net.state_dict(), PATH)\n",
    "        \n",
    "print('Finished Training')"
   ]
  },
  {
   "cell_type": "code",
   "execution_count": 19,
   "metadata": {},
   "outputs": [
    {
     "name": "stderr",
     "output_type": "stream",
     "text": [
      "C:\\Users\\Baile\\AppData\\Local\\Temp\\ipykernel_35252\\2488931302.py:3: FutureWarning: You are using `torch.load` with `weights_only=False` (the current default value), which uses the default pickle module implicitly. It is possible to construct malicious pickle data which will execute arbitrary code during unpickling (See https://github.com/pytorch/pytorch/blob/main/SECURITY.md#untrusted-models for more details). In a future release, the default value for `weights_only` will be flipped to `True`. This limits the functions that could be executed during unpickling. Arbitrary objects will no longer be allowed to be loaded via this mode unless they are explicitly allowlisted by the user via `torch.serialization.add_safe_globals`. We recommend you start setting `weights_only=True` for any use case where you don't have full control of the loaded file. Please open an issue on GitHub for any issues related to this experimental feature.\n",
      "  net.load_state_dict(torch.load(PATH))\n"
     ]
    },
    {
     "data": {
      "text/plain": [
       "<All keys matched successfully>"
      ]
     },
     "execution_count": 19,
     "metadata": {},
     "output_type": "execute_result"
    }
   ],
   "source": [
    "# Load the best model to be used in the test set\n",
    "net = Net(num_classes)\n",
    "net.load_state_dict(torch.load(PATH))"
   ]
  },
  {
   "cell_type": "code",
   "execution_count": null,
   "metadata": {},
   "outputs": [
    {
     "data": {
      "image/png": "[encoded data removed]",
      "text/plain": [
       "<Figure size 640x480 with 1 Axes>"
      ]
     },
     "metadata": {},
     "output_type": "display_data"
    },
    {
     "name": "stdout",
     "output_type": "stream",
     "text": [
      "GroundTruth:  0     0     0     0    \n"
     ]
    }
   ],
   "source": [
    "dataiter = iter(testloader)\n",
    "images, labels = next(dataiter)\n",
    "# print images\n",
    "imshow(torchvision.utils.make_grid(images[:4]), stats)\n",
    "print('GroundTruth: ', ' '.join(f'{classes[labels[j]]:5s}' for j in range(4)))\n",
    "outputs = net(images)"
   ]
  },
  {
   "cell_type": "code",
   "execution_count": 21,
   "metadata": {},
   "outputs": [
    {
     "name": "stdout",
     "output_type": "stream",
     "text": [
      "Predicted:  0     0     0     O    \n"
     ]
    }
   ],
   "source": [
    "_, predicted = torch.max(outputs, 1)\n",
    "\n",
    "print('Predicted: ', ' '.join(f'{classes[predicted[j]]:5s}'\n",
    "                              for j in range(4)))"
   ]
  },
  {
   "cell_type": "code",
   "execution_count": null,
   "metadata": {},
   "outputs": [
    {
     "name": "stdout",
     "output_type": "stream",
     "text": [
      "Accuracy of the network on the 10000 test images: 98.11507936507937 %\n"
     ]
    }
   ],
   "source": [
    "correct = 0\n",
    "total = 0\n",
    "with torch.no_grad():\n",
    "    for data in testloader:\n",
    "        images, labels = data\n",
    "        outputs = net(images)\n",
    "        _, predicted = torch.max(outputs.data, 1)\n",
    "        total += labels.size(0)\n",
    "        correct += (predicted == labels).sum().item()\n",
    "\n",
    "print(f'Accuracy of the network on the 10000 test images: {100 * correct / total} %')"
   ]
  },
  {
   "cell_type": "code",
   "execution_count": null,
   "metadata": {},
   "outputs": [
    {
     "name": "stdout",
     "output_type": "stream",
     "text": [
      "Accuracy for class: 0     is 46.4 %\n",
      "Accuracy for class: 1     is 100.0 %\n",
      "Accuracy for class: 2     is 100.0 %\n",
      "Accuracy for class: 3     is 100.0 %\n",
      "Accuracy for class: 4     is 100.0 %\n",
      "Accuracy for class: 5     is 100.0 %\n",
      "Accuracy for class: 6     is 96.4 %\n",
      "Accuracy for class: 7     is 100.0 %\n",
      "Accuracy for class: 8     is 100.0 %\n",
      "Accuracy for class: 9     is 100.0 %\n",
      "Accuracy for class: A     is 100.0 %\n",
      "Accuracy for class: B     is 100.0 %\n",
      "Accuracy for class: C     is 100.0 %\n",
      "Accuracy for class: D     is 100.0 %\n",
      "Accuracy for class: E     is 96.4 %\n",
      "Accuracy for class: F     is 100.0 %\n",
      "Accuracy for class: G     is 100.0 %\n",
      "Accuracy for class: H     is 100.0 %\n",
      "Accuracy for class: I     is 100.0 %\n",
      "Accuracy for class: J     is 100.0 %\n",
      "Accuracy for class: K     is 100.0 %\n",
      "Accuracy for class: L     is 100.0 %\n",
      "Accuracy for class: M     is 100.0 %\n",
      "Accuracy for class: N     is 100.0 %\n",
      "Accuracy for class: O     is 92.9 %\n",
      "Accuracy for class: P     is 100.0 %\n",
      "Accuracy for class: Q     is 100.0 %\n",
      "Accuracy for class: R     is 100.0 %\n",
      "Accuracy for class: S     is 100.0 %\n",
      "Accuracy for class: T     is 100.0 %\n",
      "Accuracy for class: U     is 100.0 %\n",
      "Accuracy for class: V     is 100.0 %\n",
      "Accuracy for class: W     is 100.0 %\n",
      "Accuracy for class: X     is 100.0 %\n",
      "Accuracy for class: Y     is 100.0 %\n",
      "Accuracy for class: Z     is 100.0 %\n"
     ]
    }
   ],
   "source": [
    "correct_pred = {classname: 0 for classname in classes}\n",
    "total_pred = {classname: 0 for classname in classes}\n",
    "\n",
    "with torch.no_grad():\n",
    "    for data in testloader:\n",
    "        images, labels = data\n",
    "        outputs = net(images)\n",
    "        _, predictions = torch.max(outputs, 1)\n",
    "        for label, prediction in zip(labels, predictions):\n",
    "            if label == prediction:\n",
    "                correct_pred[classes[label]] += 1\n",
    "            total_pred[classes[label]] += 1\n",
    "\n",
    "\n",
    "# print accuracy for each class\n",
    "for classname, correct_count in correct_pred.items():\n",
    "    accuracy = 100 * float(correct_count) / total_pred[classname]\n",
    "    print(f'Accuracy for class: {classname:5s} is {accuracy:.1f} %')"
   ]
  }
 ],
 "metadata": {
  "kernelspec": {
   "display_name": "using_GPU (GPU)",
   "language": "python",
   "name": "myenv"
  },
  "language_info": {
   "codemirror_mode": {
    "name": "ipython",
    "version": 3
   },
   "file_extension": ".py",
   "mimetype": "text/x-python",
   "name": "python",
   "nbconvert_exporter": "python",
   "pygments_lexer": "ipython3",
   "version": "3.11.7"
  }
 },
 "nbformat": 4,
 "nbformat_minor": 2
}
